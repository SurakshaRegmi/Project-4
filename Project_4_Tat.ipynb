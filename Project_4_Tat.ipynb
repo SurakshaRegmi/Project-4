{
 "cells": [
  {
   "cell_type": "code",
   "execution_count": 23,
   "metadata": {},
   "outputs": [],
   "source": [
    "import pandas as pd\n",
    "import numpy as np\n",
    "%matplotlib inline\n",
    "import matplotlib.pyplot as plt\n",
    "import matplotlib.lines as mlines\n",
    "import seaborn as sns\n",
    "from sklearn.model_selection import train_test_split, learning_curve\n",
    "from sklearn.metrics import average_precision_score\n"
   ]
  },
  {
   "cell_type": "code",
   "execution_count": 24,
   "metadata": {},
   "outputs": [],
   "source": [
    "import warnings\n",
    "warnings.filterwarnings(\"ignore\", category=DeprecationWarning)"
   ]
  },
  {
   "cell_type": "code",
   "execution_count": 25,
   "metadata": {},
   "outputs": [
    {
     "name": "stdout",
     "output_type": "stream",
     "text": [
      "<class 'pandas.core.frame.DataFrame'>\n",
      "RangeIndex: 6362620 entries, 0 to 6362619\n",
      "Data columns (total 11 columns):\n",
      " #   Column          Dtype  \n",
      "---  ------          -----  \n",
      " 0   step            int64  \n",
      " 1   type            object \n",
      " 2   amount          float64\n",
      " 3   nameOrig        object \n",
      " 4   oldbalanceOrg   float64\n",
      " 5   newbalanceOrig  float64\n",
      " 6   nameDest        object \n",
      " 7   oldbalanceDest  float64\n",
      " 8   newbalanceDest  float64\n",
      " 9   isFraud         int64  \n",
      " 10  isFlaggedFraud  int64  \n",
      "dtypes: float64(5), int64(3), object(3)\n",
      "memory usage: 534.0+ MB\n",
      "step                  743\n",
      "type                    5\n",
      "amount            5316900\n",
      "nameOrig          6353307\n",
      "oldbalanceOrg     1845844\n",
      "newbalanceOrig    2682586\n",
      "nameDest          2722362\n",
      "oldbalanceDest    3614697\n",
      "newbalanceDest    3555499\n",
      "isFraud                 2\n",
      "isFlaggedFraud          2\n",
      "dtype: int64\n"
     ]
    }
   ],
   "source": [
    "# Loading Data\n",
    "df = pd.read_csv(\"/Users/tattwamasiray/Downloads/Monash-BOOTCAMP/Fraud in financial payment /PS_20174392719_1491204439457_log.csv\")\n",
    "(df.head())\n",
    "df.info()\n",
    "unique_counts=df.nunique()\n",
    "print(unique_counts)\n",
    "\n"
   ]
  },
  {
   "attachments": {},
   "cell_type": "markdown",
   "metadata": {},
   "source": [
    "Exploratory Data Analysis and EDA and Fraud detection\n",
    "\n",
    "The provided data has the financial transaction data as well as the target variable isFraud, which is the actual fraud status of the transaction and isFlaggedFraud is the indicator which the simulation is used to flag the transaction using some threshold.\n",
    "\n",
    "The goal should be how we can improve and come up with better threshold to capture the fraud transaction."
   ]
  },
  {
   "cell_type": "code",
   "execution_count": 26,
   "metadata": {},
   "outputs": [
    {
     "name": "stdout",
     "output_type": "stream",
     "text": [
      "               step        amount  oldbalanceOrg  newbalanceOrig  \\\n",
      "count  6.362620e+06  6.362620e+06   6.362620e+06    6.362620e+06   \n",
      "mean   2.433972e+02  1.798619e+05   8.338831e+05    8.551137e+05   \n",
      "std    1.423320e+02  6.038582e+05   2.888243e+06    2.924049e+06   \n",
      "min    1.000000e+00  0.000000e+00   0.000000e+00    0.000000e+00   \n",
      "25%    1.560000e+02  1.338957e+04   0.000000e+00    0.000000e+00   \n",
      "50%    2.390000e+02  7.487194e+04   1.420800e+04    0.000000e+00   \n",
      "75%    3.350000e+02  2.087215e+05   1.073152e+05    1.442584e+05   \n",
      "max    7.430000e+02  9.244552e+07   5.958504e+07    4.958504e+07   \n",
      "\n",
      "       oldbalanceDest  newbalanceDest       isFraud  isFlaggedFraud  \n",
      "count    6.362620e+06    6.362620e+06  6.362620e+06    6.362620e+06  \n",
      "mean     1.100702e+06    1.224996e+06  1.290820e-03    2.514687e-06  \n",
      "std      3.399180e+06    3.674129e+06  3.590480e-02    1.585775e-03  \n",
      "min      0.000000e+00    0.000000e+00  0.000000e+00    0.000000e+00  \n",
      "25%      0.000000e+00    0.000000e+00  0.000000e+00    0.000000e+00  \n",
      "50%      1.327057e+05    2.146614e+05  0.000000e+00    0.000000e+00  \n",
      "75%      9.430367e+05    1.111909e+06  0.000000e+00    0.000000e+00  \n",
      "max      3.560159e+08    3.561793e+08  1.000000e+00    1.000000e+00  \n"
     ]
    }
   ],
   "source": [
    "summarydata = df.describe()\n",
    "print(summarydata)"
   ]
  },
  {
   "cell_type": "code",
   "execution_count": 27,
   "metadata": {},
   "outputs": [
    {
     "data": {
      "text/plain": [
       "False"
      ]
     },
     "execution_count": 27,
     "metadata": {},
     "output_type": "execute_result"
    }
   ],
   "source": [
    "df.isnull().values.any()"
   ]
  },
  {
   "cell_type": "code",
   "execution_count": 28,
   "metadata": {},
   "outputs": [
    {
     "name": "stdout",
     "output_type": "stream",
     "text": [
      "step  type      amount      nameOrig     oldbalanceOrg  newbalanceOrig  nameDest     oldbalanceDest  newbalanceDest  isFraud  isFlaggedFraud\n",
      "1     CASH_IN   270.78      C619985571   4184966.65     4185237.43      C875917495   3019.00         0.00            0        0                 1\n",
      "306   CASH_OUT  220427.13   C1029846599  0.00           0.00            C129321077   882543.64       1102970.77      0        0                 1\n",
      "                221047.89   C644407995   13756.00       0.00            C1396283314  9082.00         0.00            0        0                 1\n",
      "                221009.03   C74685400    102768.00      0.00            C1714223283  767644.73       988653.76       0        0                 1\n",
      "                220986.46   C540058568   9141.00        0.00            C1344091292  0.00            220986.46       0        0                 1\n",
      "                                                                                                                                               ..\n",
      "183   CASH_OUT  370188.93   C1859081796  50549.00       0.00            C1676915935  1963003.34      2333192.27      0        0                 1\n",
      "                370018.69   C849323482   32841.00       0.00            C461330604   993961.83       1221071.51      0        0                 1\n",
      "                369993.21   C1717628956  161194.00      0.00            C1033554718  916884.54       1879654.49      0        0                 1\n",
      "                369826.69   C1097768203  308195.76      0.00            C687982888   399515.63       769342.32       0        0                 1\n",
      "743   TRANSFER  6311409.28  C1529008245  6311409.28     0.00            C1881841831  0.00            0.00            1        0                 1\n",
      "Length: 6362620, dtype: int64\n"
     ]
    }
   ],
   "source": [
    "print(df.value_counts())"
   ]
  },
  {
   "cell_type": "code",
   "execution_count": 29,
   "metadata": {},
   "outputs": [
    {
     "name": "stdout",
     "output_type": "stream",
     "text": [
      "   transaction_step transaction_type  transaction_amount originator_name  \\\n",
      "0                 1          PAYMENT             9839.64     C1231006815   \n",
      "1                 1          PAYMENT             1864.28     C1666544295   \n",
      "2                 1         TRANSFER              181.00     C1305486145   \n",
      "3                 1         CASH_OUT              181.00      C840083671   \n",
      "4                 1          PAYMENT            11668.14     C2048537720   \n",
      "\n",
      "   originator_old_balance  originator_new_balance destination_name  \\\n",
      "0                170136.0               160296.36      M1979787155   \n",
      "1                 21249.0                19384.72      M2044282225   \n",
      "2                   181.0                    0.00       C553264065   \n",
      "3                   181.0                    0.00        C38997010   \n",
      "4                 41554.0                29885.86      M1230701703   \n",
      "\n",
      "   destination_old_balance  destination_new_balance  fraud_status  \\\n",
      "0                      0.0                      0.0             0   \n",
      "1                      0.0                      0.0             0   \n",
      "2                      0.0                      0.0             1   \n",
      "3                  21182.0                      0.0             1   \n",
      "4                      0.0                      0.0             0   \n",
      "\n",
      "   flagged_fraud_status  \n",
      "0                     0  \n",
      "1                     0  \n",
      "2                     0  \n",
      "3                     0  \n",
      "4                     0  \n"
     ]
    }
   ],
   "source": [
    "# Rename columns using a dictionary\n",
    "df.rename(columns={\n",
    "    'step': 'transaction_step',\n",
    "    'type': 'transaction_type',\n",
    "    'amount': 'transaction_amount',\n",
    "    'nameOrig': 'originator_name',\n",
    "    'oldbalanceOrg': 'originator_old_balance',\n",
    "    'newbalanceOrig': 'originator_new_balance',\n",
    "    'nameDest': 'destination_name',\n",
    "    'oldbalanceDest': 'destination_old_balance',\n",
    "    'newbalanceDest': 'destination_new_balance',\n",
    "    'isFraud': 'fraud_status',\n",
    "    'isFlaggedFraud': 'flagged_fraud_status'\n",
    "}, inplace=True)\n",
    "\n",
    "# Display the updated DataFrame\n",
    "print(df.head())"
   ]
  },
  {
   "cell_type": "code",
   "execution_count": 30,
   "metadata": {},
   "outputs": [
    {
     "name": "stdout",
     "output_type": "stream",
     "text": [
      "\n",
      "The types of fraudulent transactions are: ['TRANSFER' 'CASH_OUT']\n",
      "\n",
      "The number of fraudulent TRANSFERs = 4097\n",
      "The number of fraudulent CASH_OUTs = 4116\n"
     ]
    }
   ],
   "source": [
    "# List of unique transaction types for fraudulent transactions\n",
    "fraudulent_transaction_types = df.loc[df.fraud_status == 1, 'transaction_type'].drop_duplicates().values\n",
    "\n",
    "print('\\nThe types of fraudulent transactions are:', fraudulent_transaction_types)\n",
    "\n",
    "# Filter fraudulent transactions of type 'TRANSFER'\n",
    "df_fraud_transfer = df.loc[(df.fraud_status == 1) & (df.transaction_type == 'TRANSFER')]\n",
    "\n",
    "# Filter fraudulent transactions of type 'CASH_OUT'\n",
    "df_fraud_cash_out = df.loc[(df.fraud_status == 1) & (df.transaction_type == 'CASH_OUT')]\n",
    "\n",
    "print('\\nThe number of fraudulent TRANSFERs =', len(df_fraud_transfer))\n",
    "print('The number of fraudulent CASH_OUTs =', len(df_fraud_cash_out))\n"
   ]
  },
  {
   "attachments": {},
   "cell_type": "markdown",
   "metadata": {},
   "source": [
    "Feature Engineering:\n",
    "Create new features based on patterns you want to capture:"
   ]
  },
  {
   "cell_type": "code",
   "execution_count": 31,
   "metadata": {},
   "outputs": [],
   "source": [
    "# Example 1: Creating a feature for the difference between old and new balances for originator\n",
    "df['balance_change_orig'] = df['originator_new_balance'] - df['originator_old_balance']\n",
    "\n",
    "# Example 2: Creating a feature for the difference between old and new balances for destination\n",
    "df['balance_change_dest'] = df['destination_new_balance'] - df['destination_old_balance']\n",
    "\n",
    "# Example 3: Creating a feature for transaction amount as a percentage of old balance for originator\n",
    "df['amount_percent_orig'] = df['transaction_amount'] / df['originator_old_balance']\n",
    "\n",
    "# Example 4: Creating a binary feature for large transactions (amount > 100000)\n",
    "df['large_transaction'] = df['transaction_amount'] > 100000\n"
   ]
  },
  {
   "cell_type": "code",
   "execution_count": 32,
   "metadata": {},
   "outputs": [
    {
     "name": "stdout",
     "output_type": "stream",
     "text": [
      "   transaction_step transaction_type  transaction_amount originator_name  \\\n",
      "0                 1          PAYMENT             9839.64     C1231006815   \n",
      "1                 1          PAYMENT             1864.28     C1666544295   \n",
      "2                 1         TRANSFER              181.00     C1305486145   \n",
      "3                 1         CASH_OUT              181.00      C840083671   \n",
      "4                 1          PAYMENT            11668.14     C2048537720   \n",
      "\n",
      "   originator_old_balance  originator_new_balance destination_name  \\\n",
      "0                170136.0               160296.36      M1979787155   \n",
      "1                 21249.0                19384.72      M2044282225   \n",
      "2                   181.0                    0.00       C553264065   \n",
      "3                   181.0                    0.00        C38997010   \n",
      "4                 41554.0                29885.86      M1230701703   \n",
      "\n",
      "   destination_old_balance  destination_new_balance  fraud_status  \\\n",
      "0                      0.0                      0.0             0   \n",
      "1                      0.0                      0.0             0   \n",
      "2                      0.0                      0.0             1   \n",
      "3                  21182.0                      0.0             1   \n",
      "4                      0.0                      0.0             0   \n",
      "\n",
      "   flagged_fraud_status  balance_change_orig  balance_change_dest  \\\n",
      "0                     0             -9839.64                  0.0   \n",
      "1                     0             -1864.28                  0.0   \n",
      "2                     0              -181.00                  0.0   \n",
      "3                     0              -181.00             -21182.0   \n",
      "4                     0            -11668.14                  0.0   \n",
      "\n",
      "   amount_percent_orig  large_transaction  \n",
      "0             0.057834              False  \n",
      "1             0.087735              False  \n",
      "2             1.000000              False  \n",
      "3             1.000000              False  \n",
      "4             0.280795              False  \n"
     ]
    }
   ],
   "source": [
    "# Print the first few rows of the DataFrame with the new features\n",
    "print(df.head())\n"
   ]
  },
  {
   "cell_type": "code",
   "execution_count": 33,
   "metadata": {},
   "outputs": [
    {
     "name": "stdout",
     "output_type": "stream",
     "text": [
      "         balance_change_orig  balance_change_dest  amount_percent_orig  \\\n",
      "0                   -9839.64                 0.00             0.057834   \n",
      "1                   -1864.28                 0.00             0.087735   \n",
      "2                    -181.00                 0.00             1.000000   \n",
      "3                    -181.00            -21182.00             1.000000   \n",
      "4                  -11668.14                 0.00             0.280795   \n",
      "...                      ...                  ...                  ...   \n",
      "6362615           -339682.13            339682.13             1.000000   \n",
      "6362616          -6311409.28                 0.00             1.000000   \n",
      "6362617          -6311409.28           6311409.27             1.000000   \n",
      "6362618           -850002.52                 0.00             1.000000   \n",
      "6362619           -850002.52            850002.52             1.000000   \n",
      "\n",
      "         large_transaction  \n",
      "0                    False  \n",
      "1                    False  \n",
      "2                    False  \n",
      "3                    False  \n",
      "4                    False  \n",
      "...                    ...  \n",
      "6362615               True  \n",
      "6362616               True  \n",
      "6362617               True  \n",
      "6362618               True  \n",
      "6362619               True  \n",
      "\n",
      "[6362620 rows x 4 columns]\n"
     ]
    }
   ],
   "source": [
    "# Create a new DataFrame containing the new features\n",
    "new_features_df = df[['balance_change_orig', 'balance_change_dest', 'amount_percent_orig', 'large_transaction']]\n",
    "\n",
    "# Display the new DataFrame in tabular format\n",
    "print(new_features_df)\n"
   ]
  },
  {
   "cell_type": "code",
   "execution_count": 34,
   "metadata": {},
   "outputs": [
    {
     "data": {
      "image/png": "[encoded data removed]",
      "text/plain": [
       "<Figure size 640x480 with 1 Axes>"
      ]
     },
     "metadata": {},
     "output_type": "display_data"
    }
   ],
   "source": [
    "# Plot the distribution of fraud_status \n",
    "sns.countplot(data=df, x='fraud_status')\n",
    "plt.title(\"Distribution of Fraudulent Transactions\")\n",
    "plt.show()\n"
   ]
  }
 ],
 "metadata": {
  "kernelspec": {
   "display_name": "base",
   "language": "python",
   "name": "python3"
  },
  "language_info": {
   "codemirror_mode": {
    "name": "ipython",
    "version": 3
   },
   "file_extension": ".py",
   "mimetype": "text/x-python",
   "name": "python",
   "nbconvert_exporter": "python",
   "pygments_lexer": "ipython3",
   "version": "3.9.13"
  },
  "orig_nbformat": 4
 },
 "nbformat": 4,
 "nbformat_minor": 2
}
