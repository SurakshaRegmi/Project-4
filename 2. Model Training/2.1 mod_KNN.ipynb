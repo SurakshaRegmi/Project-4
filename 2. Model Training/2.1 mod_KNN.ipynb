{
 "cells": [
  {
   "cell_type": "code",
   "execution_count": 6,
   "id": "9bbf787f",
   "metadata": {},
   "outputs": [],
   "source": [
    "# Import modules\n",
    "from warnings import simplefilter\n",
    "simplefilter(action='ignore', category=FutureWarning)\n",
    "import pandas as pd\n",
    "from pathlib import Path\n",
    "from sklearn.model_selection import train_test_split\n",
    "from sklearn.metrics import classification_report, confusion_matrix\n",
    "from sklearn.preprocessing import StandardScaler\n",
    "import matplotlib.pyplot as plt\n",
    "from sklearn.neighbors import KNeighborsClassifier\n",
    "from sklearn.model_selection import train_test_split\n",
    "from imblearn.under_sampling import RandomUnderSampler\n",
    "from imblearn.over_sampling import RandomOverSampler\n"
   ]
  },
  {
   "cell_type": "code",
   "execution_count": 7,
   "id": "fbd3c7bd",
   "metadata": {},
   "outputs": [
    {
     "data": {
      "text/html": [
       "<div>\n",
       "<style scoped>\n",
       "    .dataframe tbody tr th:only-of-type {\n",
       "        vertical-align: middle;\n",
       "    }\n",
       "\n",
       "    .dataframe tbody tr th {\n",
       "        vertical-align: top;\n",
       "    }\n",
       "\n",
       "    .dataframe thead th {\n",
       "        text-align: right;\n",
       "    }\n",
       "</style>\n",
       "<table border=\"1\" class=\"dataframe\">\n",
       "  <thead>\n",
       "    <tr style=\"text-align: right;\">\n",
       "      <th></th>\n",
       "      <th>step</th>\n",
       "      <th>amount</th>\n",
       "      <th>oldbalanceOrg</th>\n",
       "      <th>newbalanceOrig</th>\n",
       "      <th>oldbalanceDest</th>\n",
       "      <th>newbalanceDest</th>\n",
       "      <th>isFraud</th>\n",
       "      <th>isFlaggedFraud</th>\n",
       "      <th>hour</th>\n",
       "      <th>day</th>\n",
       "      <th>week</th>\n",
       "      <th>trans_weight</th>\n",
       "      <th>bal_change_per</th>\n",
       "      <th>large_transaction</th>\n",
       "      <th>type_CASH_OUT</th>\n",
       "      <th>type_TRANSFER</th>\n",
       "      <th>Destination</th>\n",
       "    </tr>\n",
       "  </thead>\n",
       "  <tbody>\n",
       "    <tr>\n",
       "      <th>0</th>\n",
       "      <td>1</td>\n",
       "      <td>181.00</td>\n",
       "      <td>181.00</td>\n",
       "      <td>0.0</td>\n",
       "      <td>0.0</td>\n",
       "      <td>0.00</td>\n",
       "      <td>1</td>\n",
       "      <td>0</td>\n",
       "      <td>1</td>\n",
       "      <td>1</td>\n",
       "      <td>1</td>\n",
       "      <td>1.00</td>\n",
       "      <td>-1.00</td>\n",
       "      <td>0</td>\n",
       "      <td>0</td>\n",
       "      <td>1</td>\n",
       "      <td>0</td>\n",
       "    </tr>\n",
       "    <tr>\n",
       "      <th>1</th>\n",
       "      <td>1</td>\n",
       "      <td>181.00</td>\n",
       "      <td>181.00</td>\n",
       "      <td>0.0</td>\n",
       "      <td>21182.0</td>\n",
       "      <td>0.00</td>\n",
       "      <td>1</td>\n",
       "      <td>0</td>\n",
       "      <td>1</td>\n",
       "      <td>1</td>\n",
       "      <td>1</td>\n",
       "      <td>1.00</td>\n",
       "      <td>-1.00</td>\n",
       "      <td>0</td>\n",
       "      <td>1</td>\n",
       "      <td>0</td>\n",
       "      <td>1</td>\n",
       "    </tr>\n",
       "    <tr>\n",
       "      <th>2</th>\n",
       "      <td>1</td>\n",
       "      <td>229133.94</td>\n",
       "      <td>15325.00</td>\n",
       "      <td>0.0</td>\n",
       "      <td>5083.0</td>\n",
       "      <td>51513.44</td>\n",
       "      <td>0</td>\n",
       "      <td>0</td>\n",
       "      <td>1</td>\n",
       "      <td>1</td>\n",
       "      <td>1</td>\n",
       "      <td>14.95</td>\n",
       "      <td>-1.00</td>\n",
       "      <td>1</td>\n",
       "      <td>1</td>\n",
       "      <td>0</td>\n",
       "      <td>2</td>\n",
       "    </tr>\n",
       "    <tr>\n",
       "      <th>3</th>\n",
       "      <td>1</td>\n",
       "      <td>215310.30</td>\n",
       "      <td>705.00</td>\n",
       "      <td>0.0</td>\n",
       "      <td>22425.0</td>\n",
       "      <td>0.00</td>\n",
       "      <td>0</td>\n",
       "      <td>0</td>\n",
       "      <td>1</td>\n",
       "      <td>1</td>\n",
       "      <td>1</td>\n",
       "      <td>305.40</td>\n",
       "      <td>-1.00</td>\n",
       "      <td>1</td>\n",
       "      <td>0</td>\n",
       "      <td>1</td>\n",
       "      <td>3</td>\n",
       "    </tr>\n",
       "    <tr>\n",
       "      <th>4</th>\n",
       "      <td>1</td>\n",
       "      <td>311685.89</td>\n",
       "      <td>10835.00</td>\n",
       "      <td>0.0</td>\n",
       "      <td>6267.0</td>\n",
       "      <td>2719172.89</td>\n",
       "      <td>0</td>\n",
       "      <td>0</td>\n",
       "      <td>1</td>\n",
       "      <td>1</td>\n",
       "      <td>1</td>\n",
       "      <td>28.77</td>\n",
       "      <td>-1.00</td>\n",
       "      <td>1</td>\n",
       "      <td>0</td>\n",
       "      <td>1</td>\n",
       "      <td>4</td>\n",
       "    </tr>\n",
       "    <tr>\n",
       "      <th>5</th>\n",
       "      <td>1</td>\n",
       "      <td>110414.71</td>\n",
       "      <td>26845.41</td>\n",
       "      <td>0.0</td>\n",
       "      <td>288800.0</td>\n",
       "      <td>2415.16</td>\n",
       "      <td>0</td>\n",
       "      <td>0</td>\n",
       "      <td>1</td>\n",
       "      <td>1</td>\n",
       "      <td>1</td>\n",
       "      <td>4.11</td>\n",
       "      <td>-1.00</td>\n",
       "      <td>1</td>\n",
       "      <td>1</td>\n",
       "      <td>0</td>\n",
       "      <td>5</td>\n",
       "    </tr>\n",
       "    <tr>\n",
       "      <th>6</th>\n",
       "      <td>1</td>\n",
       "      <td>56953.90</td>\n",
       "      <td>1942.02</td>\n",
       "      <td>0.0</td>\n",
       "      <td>70253.0</td>\n",
       "      <td>64106.18</td>\n",
       "      <td>0</td>\n",
       "      <td>0</td>\n",
       "      <td>1</td>\n",
       "      <td>1</td>\n",
       "      <td>1</td>\n",
       "      <td>29.33</td>\n",
       "      <td>-1.00</td>\n",
       "      <td>0</td>\n",
       "      <td>1</td>\n",
       "      <td>0</td>\n",
       "      <td>6</td>\n",
       "    </tr>\n",
       "    <tr>\n",
       "      <th>7</th>\n",
       "      <td>1</td>\n",
       "      <td>5346.89</td>\n",
       "      <td>5346.89</td>\n",
       "      <td>0.0</td>\n",
       "      <td>652637.0</td>\n",
       "      <td>6453430.91</td>\n",
       "      <td>0</td>\n",
       "      <td>0</td>\n",
       "      <td>1</td>\n",
       "      <td>1</td>\n",
       "      <td>1</td>\n",
       "      <td>1.00</td>\n",
       "      <td>-1.00</td>\n",
       "      <td>0</td>\n",
       "      <td>1</td>\n",
       "      <td>0</td>\n",
       "      <td>7</td>\n",
       "    </tr>\n",
       "    <tr>\n",
       "      <th>8</th>\n",
       "      <td>1</td>\n",
       "      <td>23261.30</td>\n",
       "      <td>20411.53</td>\n",
       "      <td>0.0</td>\n",
       "      <td>25742.0</td>\n",
       "      <td>0.00</td>\n",
       "      <td>0</td>\n",
       "      <td>0</td>\n",
       "      <td>1</td>\n",
       "      <td>1</td>\n",
       "      <td>1</td>\n",
       "      <td>1.14</td>\n",
       "      <td>-1.00</td>\n",
       "      <td>0</td>\n",
       "      <td>1</td>\n",
       "      <td>0</td>\n",
       "      <td>8</td>\n",
       "    </tr>\n",
       "    <tr>\n",
       "      <th>9</th>\n",
       "      <td>1</td>\n",
       "      <td>62610.80</td>\n",
       "      <td>79114.00</td>\n",
       "      <td>16503.2</td>\n",
       "      <td>517.0</td>\n",
       "      <td>8383.29</td>\n",
       "      <td>0</td>\n",
       "      <td>0</td>\n",
       "      <td>1</td>\n",
       "      <td>1</td>\n",
       "      <td>1</td>\n",
       "      <td>0.79</td>\n",
       "      <td>-0.79</td>\n",
       "      <td>0</td>\n",
       "      <td>0</td>\n",
       "      <td>1</td>\n",
       "      <td>9</td>\n",
       "    </tr>\n",
       "  </tbody>\n",
       "</table>\n",
       "</div>"
      ],
      "text/plain": [
       "   step     amount  oldbalanceOrg  newbalanceOrig  oldbalanceDest  \\\n",
       "0     1     181.00         181.00             0.0             0.0   \n",
       "1     1     181.00         181.00             0.0         21182.0   \n",
       "2     1  229133.94       15325.00             0.0          5083.0   \n",
       "3     1  215310.30         705.00             0.0         22425.0   \n",
       "4     1  311685.89       10835.00             0.0          6267.0   \n",
       "5     1  110414.71       26845.41             0.0        288800.0   \n",
       "6     1   56953.90        1942.02             0.0         70253.0   \n",
       "7     1    5346.89        5346.89             0.0        652637.0   \n",
       "8     1   23261.30       20411.53             0.0         25742.0   \n",
       "9     1   62610.80       79114.00         16503.2           517.0   \n",
       "\n",
       "   newbalanceDest  isFraud  isFlaggedFraud  hour  day  week  trans_weight  \\\n",
       "0            0.00        1               0     1    1     1          1.00   \n",
       "1            0.00        1               0     1    1     1          1.00   \n",
       "2        51513.44        0               0     1    1     1         14.95   \n",
       "3            0.00        0               0     1    1     1        305.40   \n",
       "4      2719172.89        0               0     1    1     1         28.77   \n",
       "5         2415.16        0               0     1    1     1          4.11   \n",
       "6        64106.18        0               0     1    1     1         29.33   \n",
       "7      6453430.91        0               0     1    1     1          1.00   \n",
       "8            0.00        0               0     1    1     1          1.14   \n",
       "9         8383.29        0               0     1    1     1          0.79   \n",
       "\n",
       "   bal_change_per  large_transaction  type_CASH_OUT  type_TRANSFER  \\\n",
       "0           -1.00                  0              0              1   \n",
       "1           -1.00                  0              1              0   \n",
       "2           -1.00                  1              1              0   \n",
       "3           -1.00                  1              0              1   \n",
       "4           -1.00                  1              0              1   \n",
       "5           -1.00                  1              1              0   \n",
       "6           -1.00                  0              1              0   \n",
       "7           -1.00                  0              1              0   \n",
       "8           -1.00                  0              1              0   \n",
       "9           -0.79                  0              0              1   \n",
       "\n",
       "   Destination  \n",
       "0            0  \n",
       "1            1  \n",
       "2            2  \n",
       "3            3  \n",
       "4            4  \n",
       "5            5  \n",
       "6            6  \n",
       "7            7  \n",
       "8            8  \n",
       "9            9  "
      ]
     },
     "execution_count": 7,
     "metadata": {},
     "output_type": "execute_result"
    }
   ],
   "source": [
    "# Read the CSV file into a Pandas DataFrame\n",
    "df = pd.read_csv(\n",
    "    Path('../5.Resources/fraud_det_dig_df.csv')   \n",
    ")\n",
    "\n",
    "# Review the DataFrame\n",
    "df.head(10)"
   ]
  },
  {
   "cell_type": "code",
   "execution_count": 8,
   "id": "f89ab2f4",
   "metadata": {},
   "outputs": [
    {
     "name": "stdout",
     "output_type": "stream",
     "text": [
      "step                     743\n",
      "amount               2685804\n",
      "oldbalanceOrg        1713079\n",
      "newbalanceOrig        271977\n",
      "oldbalanceDest       2360844\n",
      "newbalanceDest       2562839\n",
      "isFraud                    2\n",
      "isFlaggedFraud             2\n",
      "hour                      24\n",
      "day                       31\n",
      "week                       5\n",
      "trans_weight          116107\n",
      "bal_change_per           103\n",
      "large_transaction          2\n",
      "type_CASH_OUT              2\n",
      "type_TRANSFER              2\n",
      "Destination           509561\n",
      "dtype: int64\n"
     ]
    }
   ],
   "source": [
    "# Explore unique variables\n",
    "unique_counts=df.nunique()\n",
    "print(unique_counts)"
   ]
  },
  {
   "cell_type": "code",
   "execution_count": 9,
   "id": "7b236b4a",
   "metadata": {},
   "outputs": [],
   "source": [
    "## DEFINE target Class and set X variables\n",
    "# Separate features and target variable\n",
    "X = df.drop('isFraud', axis=1)\n",
    "y = df['isFraud']\n"
   ]
  },
  {
   "cell_type": "code",
   "execution_count": 10,
   "id": "79214c2a",
   "metadata": {},
   "outputs": [],
   "source": [
    "# Perform train-test split on the original DataFrame\n",
    "X_train, X_test, y_train, y_test = train_test_split(X, y, test_size=0.2, random_state=42)\n"
   ]
  },
  {
   "cell_type": "code",
   "execution_count": 11,
   "id": "3f8da3c3",
   "metadata": {},
   "outputs": [],
   "source": [
    "# Scaling Data using StandardScaler\n",
    "scaler = StandardScaler()\n",
    "X_train_scaled = scaler.fit_transform(X_train)\n",
    "X_test_scaled = scaler.transform(X_test)\n",
    "\n",
    "\n",
    "# UNDERSAMPLING using RandomUndersampler\n",
    "rus = RandomUnderSampler(random_state=42)\n",
    "X_rus, y_rus = rus.fit_resample(X_train_scaled, y_train.ravel())\n"
   ]
  },
  {
   "cell_type": "code",
   "execution_count": 12,
   "id": "0e8db11b",
   "metadata": {},
   "outputs": [
    {
     "data": {
      "image/png": "[encoded data removed]",
      "text/plain": [
       "<Figure size 1000x600 with 1 Axes>"
      ]
     },
     "metadata": {},
     "output_type": "display_data"
    }
   ],
   "source": [
    "# Range of k values to test\n",
    "k_values = range(1, 11)  # Testing k from 1 to 10\n",
    "\n",
    "# Lists to store accuracy scores for different k values\n",
    "train_accuracy = []\n",
    "test_accuracy = []\n",
    "\n",
    "# Loop through different k values\n",
    "for k in k_values:\n",
    "    # Create a k-NN classifier with the current k value\n",
    "    knn = KNeighborsClassifier(n_neighbors=k)\n",
    "    \n",
    "    # Train the model on the training data\n",
    "    knn.fit(X_rus, y_rus)\n",
    "    \n",
    "    # Calculate accuracy on the training data\n",
    "    train_accuracy.append(knn.score(X_rus, y_rus))\n",
    "    \n",
    "    # Calculate accuracy on the testing data\n",
    "    test_accuracy.append(knn.score(X_test_scaled, y_test))\n",
    "\n",
    "# Plot the accuracy values for different k values\n",
    "plt.figure(figsize=(10, 6))\n",
    "plt.plot(k_values, train_accuracy, label='Train Accuracy', marker='o', color='darkred')\n",
    "plt.plot(k_values, test_accuracy, label='Test Accuracy', marker='o', color ='darkblue')\n",
    "plt.xlabel('Number of Neighbors (k)')\n",
    "plt.ylabel('Accuracy')\n",
    "plt.title('k-NN Model Accuracy for Different Values of k')\n",
    "plt.xticks(k_values)\n",
    "plt.legend()\n",
    "plt.grid(True)\n",
    "plt.show()"
   ]
  },
  {
   "cell_type": "code",
   "execution_count": 13,
   "id": "f51c09ed",
   "metadata": {},
   "outputs": [],
   "source": [
    "# Instantiate the KNeighborsClassifier model with n_neighbors = 3 \n",
    "knn = KNeighborsClassifier(n_neighbors=3)\n",
    "\n",
    "# Train the model using the training data\n",
    "knn.fit(X_rus, y_rus)\n",
    "\n",
    "# Create predictions using the testing data\n",
    "y_pred = knn.predict(X_test_scaled)"
   ]
  },
  {
   "cell_type": "code",
   "execution_count": 14,
   "id": "5ec83cef",
   "metadata": {},
   "outputs": [
    {
     "name": "stdout",
     "output_type": "stream",
     "text": [
      "              precision    recall  f1-score   support\n",
      "\n",
      "           0       1.00      0.92      0.96    552445\n",
      "           1       0.03      0.89      0.06      1634\n",
      "\n",
      "    accuracy                           0.92    554079\n",
      "   macro avg       0.52      0.91      0.51    554079\n",
      "weighted avg       1.00      0.92      0.96    554079\n",
      "\n"
     ]
    }
   ],
   "source": [
    "# Print the classification report comparing the testing data to the model predictions\n",
    "print(classification_report(y_test, y_pred))"
   ]
  },
  {
   "cell_type": "code",
   "execution_count": 15,
   "id": "a91b33b4",
   "metadata": {},
   "outputs": [
    {
     "data": {
      "text/plain": [
       "array([[507792,    178],\n",
       "       [ 44653,   1456]], dtype=int64)"
      ]
     },
     "execution_count": 15,
     "metadata": {},
     "output_type": "execute_result"
    }
   ],
   "source": [
    "# Print confusion matrix\n",
    "confusion_matrix(y_pred,y_test)"
   ]
  },
  {
   "cell_type": "code",
   "execution_count": 16,
   "id": "73938bb9",
   "metadata": {},
   "outputs": [],
   "source": [
    "# Instantiate the KNeighborsClassifier model with n_neighbors = 2\n",
    "knn = KNeighborsClassifier(n_neighbors=2)\n",
    "\n",
    "# Train the model using the training data\n",
    "knn.fit(X_rus, y_rus)\n",
    "\n",
    "# Create predictions using the testing data\n",
    "y_pred = knn.predict(X_test_scaled)"
   ]
  },
  {
   "cell_type": "code",
   "execution_count": 17,
   "id": "c08fa440",
   "metadata": {},
   "outputs": [
    {
     "name": "stdout",
     "output_type": "stream",
     "text": [
      "              precision    recall  f1-score   support\n",
      "\n",
      "           0       1.00      0.96      0.98    552445\n",
      "           1       0.06      0.84      0.10      1634\n",
      "\n",
      "    accuracy                           0.96    554079\n",
      "   macro avg       0.53      0.90      0.54    554079\n",
      "weighted avg       1.00      0.96      0.98    554079\n",
      "\n"
     ]
    }
   ],
   "source": [
    "# Print the classification report comparing the testing data to the model predictions\n",
    "print(classification_report(y_test, y_pred))"
   ]
  },
  {
   "cell_type": "code",
   "execution_count": 18,
   "id": "9e2c2481",
   "metadata": {},
   "outputs": [
    {
     "data": {
      "text/plain": [
       "array([[528815,    258],\n",
       "       [ 23630,   1376]], dtype=int64)"
      ]
     },
     "execution_count": 18,
     "metadata": {},
     "output_type": "execute_result"
    }
   ],
   "source": [
    "# Print confusion matrix\n",
    "confusion_matrix(y_pred,y_test)"
   ]
  },
  {
   "cell_type": "code",
   "execution_count": 19,
   "id": "e97b448f",
   "metadata": {},
   "outputs": [],
   "source": [
    "# Instantiate the KNeighborsClassifier model with n_neighbors = 4\n",
    "knn = KNeighborsClassifier(n_neighbors=4)\n",
    "\n",
    "# Train the model using the training data\n",
    "knn.fit(X_rus, y_rus)\n",
    "\n",
    "# Create predictions using the testing data\n",
    "y_pred = knn.predict(X_test_scaled)"
   ]
  },
  {
   "cell_type": "code",
   "execution_count": 20,
   "id": "ea4df83b",
   "metadata": {},
   "outputs": [
    {
     "name": "stdout",
     "output_type": "stream",
     "text": [
      "              precision    recall  f1-score   support\n",
      "\n",
      "           0       1.00      0.95      0.97    552445\n",
      "           1       0.05      0.86      0.09      1634\n",
      "\n",
      "    accuracy                           0.95    554079\n",
      "   macro avg       0.52      0.91      0.53    554079\n",
      "weighted avg       1.00      0.95      0.97    554079\n",
      "\n"
     ]
    }
   ],
   "source": [
    "# Print the classification report comparing the testing data to the model predictions\n",
    "print(classification_report(y_test, y_pred))"
   ]
  },
  {
   "cell_type": "code",
   "execution_count": 21,
   "id": "7bb9f03f",
   "metadata": {},
   "outputs": [
    {
     "data": {
      "text/plain": [
       "array([[524026,    224],\n",
       "       [ 28419,   1410]], dtype=int64)"
      ]
     },
     "execution_count": 21,
     "metadata": {},
     "output_type": "execute_result"
    }
   ],
   "source": [
    "# Print confusion matrix\n",
    "confusion_matrix(y_pred,y_test)"
   ]
  }
 ],
 "metadata": {
  "kernelspec": {
   "display_name": "Python 3 (ipykernel)",
   "language": "python",
   "name": "python3"
  },
  "language_info": {
   "codemirror_mode": {
    "name": "ipython",
    "version": 3
   },
   "file_extension": ".py",
   "mimetype": "text/x-python",
   "name": "python",
   "nbconvert_exporter": "python",
   "pygments_lexer": "ipython3",
   "version": "3.10.9"
  }
 },
 "nbformat": 4,
 "nbformat_minor": 5
}
